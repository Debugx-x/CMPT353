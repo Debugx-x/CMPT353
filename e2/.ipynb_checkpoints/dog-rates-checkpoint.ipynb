{
 "cells": [
  {
   "cell_type": "code",
   "execution_count": 1,
   "id": "9d65c8b4",
   "metadata": {},
   "outputs": [],
   "source": [
    "import pandas as pd"
   ]
  },
  {
   "cell_type": "code",
   "execution_count": 4,
   "id": "c34698cb",
   "metadata": {},
   "outputs": [],
   "source": [
    "tweets = pd.read_csv('dog_rates_tweets.csv',header=None, index_col=1,names=['id', 'created_at', 'text'])"
   ]
  },
  {
   "cell_type": "code",
   "execution_count": null,
   "id": "47f0c303-4590-4d3e-82b4-b9d2cb3f6b37",
   "metadata": {},
   "outputs": [],
   "source": []
  }
 ],
 "metadata": {
  "kernelspec": {
   "display_name": "Python 3",
   "language": "python",
   "name": "python3"
  },
  "language_info": {
   "codemirror_mode": {
    "name": "ipython",
    "version": 3
   },
   "file_extension": ".py",
   "mimetype": "text/x-python",
   "name": "python",
   "nbconvert_exporter": "python",
   "pygments_lexer": "ipython3",
   "version": "3.8.10"
  }
 },
 "nbformat": 4,
 "nbformat_minor": 5
}
