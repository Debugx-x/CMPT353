{
  "cells":[
    {
      "cell_type":"code",
      "source":[
        "import pandas as pd\n",
        "import os"
      ],
      "execution_count":3,
      "outputs":[
        
      ],
      "metadata":{
        
      }
    },
    {
      "cell_type":"markdown",
      "source":[
        "# get Data"
      ],
      "attachments":{
        
      },
      "metadata":{
        
      }
    },
    {
      "cell_type":"code",
      "source":[
        "data1 = pd.read_csv(\"data-1.csv\")\n",
        "data2 = pd.read_csv(\"data-2.csv\")\n",
        "data3 = pd.read_csv(\"data-3.csv\")\n",
        "data4 = pd.read_csv(\"data-4.csv\")\n",
        "data5 = pd.read_csv(\"data-5.csv\")\n",
        "data6 = pd.read_csv(\"data-6.csv\")"
      ],
      "execution_count":4,
      "outputs":[
        
      ],
      "metadata":{
        
      }
    },
    {
      "cell_type":"code",
      "source":[
        "def get_stat(data, name):\n",
        "    summary = pd.DataFrame(\n",
        "         {\n",
        "        'meanX' : data['x'].mean(),\n",
        "        'meanY' : data['y'].mean(),\n",
        "        'stdX' : data['x'].std(),\n",
        "        'stdY' : data['y'].std(),\n",
        "        'rangeX' : str([data['x'].max(),data['x'].min()]),\n",
        "        'rangeY' : str([data['y'].max(),data['y'].min()]),\n",
        "        'correlation coefficient' : data.corr()['x']['y']\n",
        "    },\n",
        "    index=[name])\n",
        "    return summary"
      ],
      "execution_count":5,
      "outputs":[
        
      ],
      "metadata":{
        
      }
    },
    {
      "cell_type":"code",
      "source":[
        "# https:\/\/stackoverflow.com\/questions\/31247198\/python-pandas-write-content-of-dataframe-into-text-file\n",
        "def write_summary(data):\n",
        "    filename = 'summary.txt'\n",
        "    with open(os.path.join(filename),'w') as outfile:\n",
        "        data.to_string(outfile)"
      ],
      "execution_count":6,
      "outputs":[
        
      ],
      "metadata":{
        
      }
    },
    {
      "cell_type":"code",
      "source":[
        "summary = get_stat(data1,'data-1')\n",
        "summary = summary.append(get_stat(data2,'data-2'))\n",
        "summary = summary.append(get_stat(data3,'data-3'))\n",
        "summary = summary.append(get_stat(data4,'data-4'))\n",
        "summary = summary.append(get_stat(data5,'data-5'))\n",
        "summary = summary.append(get_stat(data6,'data-6'))"
      ],
      "execution_count":7,
      "outputs":[
        
      ],
      "metadata":{
        
      }
    },
    {
      "cell_type":"markdown",
      "source":[
        "### adding data descriptions"
      ],
      "attachments":{
        
      },
      "metadata":{
        
      }
    },
    {
      "cell_type":"code",
      "source":[
        "summary['description'] = [\"The data set consists of 100 data points with great relationship between x and y values\", \"The data set consists of 100 mostly negative datapoints hence data might be left skewed\", \"The data set consists of 300 data point in 4 clusters that mimic a well-distributed data \", \"The data set of 118 points makes SFU logo when plotted on a x-y graph\",\"The data consists of 118 data points plotted in almost straight vertical lines with less relationship between x and y\", \"The data of 100 data points is a straight line on a x-y graph with some outliers\"]"
      ],
      "execution_count":24,
      "outputs":[
        
      ],
      "metadata":{
        
      }
    },
    {
      "cell_type":"markdown",
      "source":[
        "# write summary.txt"
      ],
      "attachments":{
        
      },
      "metadata":{
        
      }
    },
    {
      "cell_type":"code",
      "source":[
        "write_summary(summary)"
      ],
      "execution_count":25,
      "outputs":[
        
      ],
      "metadata":{
        
      }
    }
  ],
  "metadata":{
    
  },
  "nbformat":4,
  "nbformat_minor":0
}